{
  "nbformat": 4,
  "nbformat_minor": 0,
  "metadata": {
    "colab": {
      "name": "Test123.ipynb",
      "provenance": [],
      "authorship_tag": "ABX9TyOaCJsTtWDJlCoayr5kMkXf",
      "include_colab_link": true
    },
    "kernelspec": {
      "name": "python3",
      "display_name": "Python 3"
    },
    "language_info": {
      "name": "python"
    }
  },
  "cells": [
    {
      "cell_type": "markdown",
      "metadata": {
        "id": "view-in-github",
        "colab_type": "text"
      },
      "source": [
        "<a href=\"https://colab.research.google.com/github/shivangi-975/EESRGAN/blob/master/Test123.ipynb\" target=\"_parent\"><img src=\"https://colab.research.google.com/assets/colab-badge.svg\" alt=\"Open In Colab\"/></a>"
      ]
    },
    {
      "cell_type": "code",
      "metadata": {
        "colab": {
          "base_uri": "https://localhost:8080/"
        },
        "id": "44gVlLjGQf1W",
        "outputId": "a6adfa80-6610-4ecc-dbb1-840d22dcbc9b"
      },
      "source": [
        "from google.colab import drive\n",
        "drive.mount('/content/gdrive')\n",
        "drive.mount(\"/content/gdrive\", force_remount=True)"
      ],
      "execution_count": null,
      "outputs": [
        {
          "output_type": "stream",
          "text": [
            "Mounted at /content/gdrive\n",
            "Mounted at /content/gdrive\n"
          ],
          "name": "stdout"
        }
      ]
    },
    {
      "cell_type": "code",
      "metadata": {
        "id": "Qkx9UhkMQidY"
      },
      "source": [
        "import os \n",
        "os.chdir(\"/content/gdrive/MyDrive/Fewshot_Detection_\")"
      ],
      "execution_count": null,
      "outputs": []
    },
    {
      "cell_type": "code",
      "metadata": {
        "colab": {
          "base_uri": "https://localhost:8080/"
        },
        "id": "A_8BSNS6TXB4",
        "outputId": "1b0a2452-f05e-47ae-b2e6-c4248712cd59"
      },
      "source": [
        "%ls"
      ],
      "execution_count": null,
      "outputs": [
        {
          "output_type": "stream",
          "text": [
            "\u001b[0m\u001b[01;34mcfg\u001b[0m/                                                partial.py\n",
            "cfg.py                                              pooling.py\n",
            "\u001b[01;34mcoco\u001b[0m/                                               README.md\n",
            "darknet_meta.py                                     recall.py\n",
            "darknet.py                                          region_loss.py\n",
            "\u001b[01;34mdata\u001b[0m/                                               requirements.txt\n",
            "dataset.py                                          \u001b[01;34mscripts\u001b[0m/\n",
            "debug.py                                            test.txt\n",
            "demo.py                                             train_meta.py\n",
            "detect.py                                           train.py\n",
            "dynamic_conv.py                                     utils.py\n",
            "eval.py                                             valid_ensemble.py\n",
            "\u001b[01;34mFew-shot-Object-Detection-via-Feature-Reweighting\u001b[0m/  valid_meta.py\n",
            "FocalLoss.py                                        valid.py\n",
            "image.py                                            \u001b[01;34mVOCdevkit\u001b[0m/\n",
            "\u001b[01;34mlayers\u001b[0m/                                             voc_label.py\n",
            "\u001b[01;34mmodels\u001b[0m/                                             \u001b[01;34mvoclist\u001b[0m/\n"
          ],
          "name": "stdout"
        }
      ]
    },
    {
      "cell_type": "code",
      "metadata": {
        "id": "l95wlgpcTgAN"
      },
      "source": [
        "!$PROJ_ROOT : /content/drive/MyDrive/1_Fewshot_Detection\n",
        "!$DATA_ROOT : /content/drive/MyDrive/1_Fewshot_Detection/data"
      ],
      "execution_count": null,
      "outputs": []
    },
    {
      "cell_type": "code",
      "metadata": {
        "id": "T4kDSYI0Tkmt"
      },
      "source": [
        "!cd /content/gdrive/MyDrive/Fewshot_Detection_/data"
      ],
      "execution_count": null,
      "outputs": []
    },
    {
      "cell_type": "code",
      "metadata": {
        "id": "F53lenJPw8EZ"
      },
      "source": [
        "!cd /content/gdrive/MyDrive/Fewshot_Detection_/data/VOCdevkit"
      ],
      "execution_count": null,
      "outputs": []
    },
    {
      "cell_type": "code",
      "metadata": {
        "id": "rmQGwvjNx8l4"
      },
      "source": [
        "!cd /content/gdrive/MyDrive/Fewshot_Detection_/data/VOCdevkit/VOC2007_"
      ],
      "execution_count": null,
      "outputs": []
    },
    {
      "cell_type": "code",
      "metadata": {
        "colab": {
          "base_uri": "https://localhost:8080/"
        },
        "id": "g1AbeK6WXNjL",
        "outputId": "69e7f36e-bd76-4477-c6fd-76b19a62c3e3"
      },
      "source": [
        "!python /content/gdrive/MyDrive/Fewshot_Detection_/scripts/voc_label_1c.py\n"
      ],
      "execution_count": null,
      "outputs": [
        {
          "output_type": "stream",
          "text": [
            "Traceback (most recent call last):\n",
            "  File \"/content/gdrive/MyDrive/Fewshot_Detection_/scripts/voc_label_1c.py\", line 60, in <module>\n",
            "    image_ids = open(data_path+'VOCdevkit/VOC%s/ImageSets/Main/%s_%s.txt'%(year, class_name, image_set)).read().strip().split()\n",
            "FileNotFoundError: [Errno 2] No such file or directory: '/content/gdrive/MyDrive/Fewshot_Detection_/data/VOCdevkit/VOC2012VOCdevkit/VOC2012/ImageSets/Main/aeroplane_train.txt'\n"
          ],
          "name": "stdout"
        }
      ]
    },
    {
      "cell_type": "code",
      "metadata": {
        "colab": {
          "base_uri": "https://localhost:8080/",
          "height": 310
        },
        "id": "SnAW7Dk2auxr",
        "outputId": "6f0a4712-4f89-43b6-a993-a442d75e5596"
      },
      "source": [
        "import xml.etree.ElementTree as ET\n",
        "import pickle\n",
        "import os\n",
        "from os import listdir, getcwd\n",
        "from os.path import join\n",
        "import argparse\n",
        "\n",
        "\n",
        "# parser = argparse.ArgumentParser()\n",
        "# parser.add_argument('--type', type=str, choices=['1c', 'all'], required=True)\n",
        "# args = parser.parse_args()\n",
        "\n",
        "\n",
        "sets=[('2012', 'train'), ('2012', 'val'), ('2007', 'train'), ('2007', 'val'), ('2007', 'test')]\n",
        "\n",
        "classes = [\"aeroplane\", \"bicycle\", \"bird\", \"boat\", \"bottle\", \"bus\", \"car\", \"cat\", \"chair\", \"cow\", \"diningtable\", \"dog\", \"horse\", \"motorbike\", \"person\", \"pottedplant\", \"sheep\", \"sofa\", \"train\", \"tvmonitor\"]\n",
        "\n",
        "def convert(size, box):\n",
        "    dw = 1./size[0]\n",
        "    dh = 1./size[1]\n",
        "    x = (box[0] + box[1])/2.0\n",
        "    y = (box[2] + box[3])/2.0\n",
        "    w = box[1] - box[0]\n",
        "    h = box[3] - box[2]\n",
        "    x = x*dw\n",
        "    w = w*dw\n",
        "    y = y*dh\n",
        "    h = h*dh\n",
        "    return (x,y,w,h)\n",
        "\n",
        "def convert_annotation(year, image_id, class_name):\n",
        "    in_file = open('VOCdevkit/VOC%s/Annotations/%s.xml'%(year, image_id))\n",
        "    out_file = open('VOCdevkit/VOC%s/labels_1c/%s/%s.txt'%(year, class_name, image_id), 'w')\n",
        "    tree=ET.parse(in_file)\n",
        "    root = tree.getroot()\n",
        "    size = root.find('size')\n",
        "    w = int(size.find('width').text)\n",
        "    h = int(size.find('height').text)\n",
        "\n",
        "    for obj in root.iter('object'):\n",
        "        difficult = obj.find('difficult').text\n",
        "        cls = obj.find('name').text\n",
        "        if cls != class_name or int(difficult) == 1:\n",
        "            continue\n",
        "        # cls_id = classes.index(cls)\n",
        "        cls_id = 0\n",
        "        xmlbox = obj.find('bndbox')\n",
        "        b = (float(xmlbox.find('xmin').text), float(xmlbox.find('xmax').text), float(xmlbox.find('ymin').text), float(xmlbox.find('ymax').text))\n",
        "        bb = convert((w,h), b)\n",
        "        out_file.write(str(cls_id) + \" \" + \" \".join([str(a) for a in bb]) + '\\n')\n",
        "\n",
        "\n",
        "wd = getcwd()\n",
        "\n",
        "if not os.path.exists('voclist'):\n",
        "    os.mkdir('voclist')\n",
        "\n",
        "for class_name in classes:\n",
        "    for year, image_set in sets:\n",
        "        image_ids = open('VOCdevkit/VOC%s/ImageSets/Main/%s_%s.txt'%(year, class_name, image_set)).read().strip().split()\n",
        "        ids, flags = image_ids[::2], image_ids[1::2]\n",
        "        image_ids = list(zip(ids, flags))\n",
        "\n",
        "        # File to save the image path list\n",
        "        list_file = open('voclist/%s_%s_%s.txt'%(year, class_name, image_set), 'w')\n",
        "\n",
        "        # File to save the image labels\n",
        "        label_dir = 'labels_1c/' + class_name\n",
        "        if not os.path.exists('VOCdevkit/VOC%s/%s/'%(year, label_dir)):\n",
        "            os.makedirs('VOCdevkit/VOC%s/%s/'%(year, label_dir))\n",
        "\n",
        "        # Traverse all images\n",
        "        for image_id, flag in image_ids:\n",
        "            if int(flag) == -1:\n",
        "                continue\n",
        "            list_file.write('%s/VOCdevkit/VOC%s/JPEGImages/%s.jpg\\n'%(wd, year, image_id))\n",
        "            convert_annotation(year, image_id, class_name)\n",
        "        list_file.close()\n",
        "\n",
        "    files = [\n",
        "        'voclist/2007_{}_train.txt'.format(class_name),\n",
        "        'voclist/2007_{}_val.txt'.format(class_name),\n",
        "        'voclist/2012_{}_*.txt'.format(class_name)\n",
        "    ]\n",
        "    files = ' '.join(files)\n",
        "    cmd = 'cat ' + files + '> voclist/{}_train.txt'.format(class_name)\n",
        "    os.system(cmd)"
      ],
      "execution_count": null,
      "outputs": [
        {
          "output_type": "error",
          "ename": "FileNotFoundError",
          "evalue": "ignored",
          "traceback": [
            "\u001b[0;31m---------------------------------------------------------------------------\u001b[0m",
            "\u001b[0;31mFileNotFoundError\u001b[0m                         Traceback (most recent call last)",
            "\u001b[0;32m<ipython-input-9-46dc2e92295d>\u001b[0m in \u001b[0;36m<module>\u001b[0;34m()\u001b[0m\n\u001b[1;32m     58\u001b[0m \u001b[0;32mfor\u001b[0m \u001b[0mclass_name\u001b[0m \u001b[0;32min\u001b[0m \u001b[0mclasses\u001b[0m\u001b[0;34m:\u001b[0m\u001b[0;34m\u001b[0m\u001b[0;34m\u001b[0m\u001b[0m\n\u001b[1;32m     59\u001b[0m     \u001b[0;32mfor\u001b[0m \u001b[0myear\u001b[0m\u001b[0;34m,\u001b[0m \u001b[0mimage_set\u001b[0m \u001b[0;32min\u001b[0m \u001b[0msets\u001b[0m\u001b[0;34m:\u001b[0m\u001b[0;34m\u001b[0m\u001b[0;34m\u001b[0m\u001b[0m\n\u001b[0;32m---> 60\u001b[0;31m         \u001b[0mimage_ids\u001b[0m \u001b[0;34m=\u001b[0m \u001b[0mopen\u001b[0m\u001b[0;34m(\u001b[0m\u001b[0;34m'VOCdevkit/VOC%s/ImageSets/Main/%s_%s.txt'\u001b[0m\u001b[0;34m%\u001b[0m\u001b[0;34m(\u001b[0m\u001b[0myear\u001b[0m\u001b[0;34m,\u001b[0m \u001b[0mclass_name\u001b[0m\u001b[0;34m,\u001b[0m \u001b[0mimage_set\u001b[0m\u001b[0;34m)\u001b[0m\u001b[0;34m)\u001b[0m\u001b[0;34m.\u001b[0m\u001b[0mread\u001b[0m\u001b[0;34m(\u001b[0m\u001b[0;34m)\u001b[0m\u001b[0;34m.\u001b[0m\u001b[0mstrip\u001b[0m\u001b[0;34m(\u001b[0m\u001b[0;34m)\u001b[0m\u001b[0;34m.\u001b[0m\u001b[0msplit\u001b[0m\u001b[0;34m(\u001b[0m\u001b[0;34m)\u001b[0m\u001b[0;34m\u001b[0m\u001b[0;34m\u001b[0m\u001b[0m\n\u001b[0m\u001b[1;32m     61\u001b[0m         \u001b[0mids\u001b[0m\u001b[0;34m,\u001b[0m \u001b[0mflags\u001b[0m \u001b[0;34m=\u001b[0m \u001b[0mimage_ids\u001b[0m\u001b[0;34m[\u001b[0m\u001b[0;34m:\u001b[0m\u001b[0;34m:\u001b[0m\u001b[0;36m2\u001b[0m\u001b[0;34m]\u001b[0m\u001b[0;34m,\u001b[0m \u001b[0mimage_ids\u001b[0m\u001b[0;34m[\u001b[0m\u001b[0;36m1\u001b[0m\u001b[0;34m:\u001b[0m\u001b[0;34m:\u001b[0m\u001b[0;36m2\u001b[0m\u001b[0;34m]\u001b[0m\u001b[0;34m\u001b[0m\u001b[0;34m\u001b[0m\u001b[0m\n\u001b[1;32m     62\u001b[0m         \u001b[0mimage_ids\u001b[0m \u001b[0;34m=\u001b[0m \u001b[0mlist\u001b[0m\u001b[0;34m(\u001b[0m\u001b[0mzip\u001b[0m\u001b[0;34m(\u001b[0m\u001b[0mids\u001b[0m\u001b[0;34m,\u001b[0m \u001b[0mflags\u001b[0m\u001b[0;34m)\u001b[0m\u001b[0;34m)\u001b[0m\u001b[0;34m\u001b[0m\u001b[0;34m\u001b[0m\u001b[0m\n",
            "\u001b[0;31mFileNotFoundError\u001b[0m: [Errno 2] No such file or directory: 'VOCdevkit/VOC2012/ImageSets/Main/aeroplane_train.txt'"
          ]
        }
      ]
    },
    {
      "cell_type": "code",
      "metadata": {
        "colab": {
          "base_uri": "https://localhost:8080/"
        },
        "id": "6UH6sQpIy9Mb",
        "outputId": "4044e562-b914-4569-ad3d-10facdce158b"
      },
      "source": [
        "!python /content/gdrive/MyDrive/Fewshot_Detection_/scripts/convert_fewlist.py"
      ],
      "execution_count": null,
      "outputs": [
        {
          "output_type": "stream",
          "text": [
            "===> Converting few-shot name lists.. \n",
            "  | On box_10shot_aeroplane_train.txt\n",
            "Traceback (most recent call last):\n",
            "  File \"/content/gdrive/MyDrive/Fewshot_Detection_/scripts/convert_fewlist.py\", line 26, in <module>\n",
            "    with open(path.join(args.droot, 'voclist', name_list), 'w') as f:\n",
            "FileNotFoundError: [Errno 2] No such file or directory: '/home/bykang/voc/voclist/box_10shot_aeroplane_train.txt'\n"
          ],
          "name": "stdout"
        }
      ]
    },
    {
      "cell_type": "code",
      "metadata": {
        "id": "HJKsTvOU3Kax",
        "colab": {
          "base_uri": "https://localhost:8080/",
          "height": 272
        },
        "outputId": "fc0e5b29-4eba-41b6-a569-852216bfe386"
      },
      "source": [
        "import xml.etree.ElementTree as ET\n",
        "import pickle\n",
        "import os\n",
        "from os import listdir, getcwd\n",
        "from os.path import join\n",
        "\n",
        "\n",
        "data_path=\"/content/gdrive/MyDrive/Fewshot_Detection_/data\"\n",
        "sets=[('2012', 'train'), ('2012', 'val'), ('2007', 'train'), ('2007', 'val'), ('2007', 'test')]\n",
        "\n",
        "classes = [\"aeroplane\", \"bicycle\", \"bird\", \"boat\", \"bottle\", \"bus\", \"car\", \"cat\", \"chair\", \"cow\", \"diningtable\", \"dog\", \"horse\", \"motorbike\", \"person\", \"pottedplant\", \"sheep\", \"sofa\", \"train\", \"tvmonitor\"]\n",
        "\n",
        "\n",
        "def convert(size, box):\n",
        "    dw = 1./size[0]\n",
        "    dh = 1./size[1]\n",
        "    x = (box[0] + box[1])/2.0\n",
        "    y = (box[2] + box[3])/2.0\n",
        "    w = box[1] - box[0]\n",
        "    h = box[3] - box[2]\n",
        "    x = x*dw\n",
        "    w = w*dw\n",
        "    y = y*dh\n",
        "    h = h*dh\n",
        "    return (x,y,w,h)\n",
        "\n",
        "def convert_annotation(year, image_id):\n",
        "    in_file = open(data_path+'VOCdevkit/VOC%s/Annotations/%s.xml'%(year, image_id))\n",
        "    out_file = open(data_path+'VOCdevkit/VOC%s/labels/%s.txt'%(year, image_id), 'w')\n",
        "    tree=ET.parse(in_file)\n",
        "    root = tree.getroot()\n",
        "    size = root.find('size')\n",
        "    w = int(size.find('width').text)\n",
        "    h = int(size.find('height').text)\n",
        "\n",
        "    for obj in root.iter('object'):\n",
        "        difficult = obj.find('difficult').text\n",
        "        cls = obj.find('name').text\n",
        "        if cls not in classes or int(difficult) == 1:\n",
        "            continue\n",
        "        cls_id = classes.index(cls)\n",
        "        xmlbox = obj.find('bndbox')\n",
        "        b = (float(xmlbox.find('xmin').text), float(xmlbox.find('xmax').text), float(xmlbox.find('ymin').text), float(xmlbox.find('ymax').text))\n",
        "        bb = convert((w,h), b)\n",
        "        out_file.write(str(cls_id) + \" \" + \" \".join([str(a) for a in bb]) + '\\n')\n",
        "\n",
        "wd = getcwd()\n",
        "\n",
        "for year, image_set in sets:\n",
        "    if not os.path.exists(data_path+'VOCdevkit/VOC%s/labels/'%(year)):\n",
        "        os.makedirs(data_path+'VOCdevkit/VOC%s/labels/'%(year))\n",
        "    image_ids = open(data_path+'VOCdevkit/VOC%s/ImageSets/Main/%s.txt'%(year, image_set)).read().strip().split()\n",
        "    list_file = open('%s_%s.txt'%(year, image_set), 'w')\n",
        "    for image_id in image_ids:\n",
        "        list_file.write('%s/VOCdevkit/VOC%s/JPEGImages/%s.jpg\\n'%(wd, year, image_id))\n",
        "        convert_annotation(year, image_id)\n",
        "    list_file.close()\n",
        "\n"
      ],
      "execution_count": null,
      "outputs": [
        {
          "output_type": "error",
          "ename": "FileNotFoundError",
          "evalue": "ignored",
          "traceback": [
            "\u001b[0;31m---------------------------------------------------------------------------\u001b[0m",
            "\u001b[0;31mFileNotFoundError\u001b[0m                         Traceback (most recent call last)",
            "\u001b[0;32m<ipython-input-8-e876f8e81048>\u001b[0m in \u001b[0;36m<module>\u001b[0;34m()\u001b[0m\n\u001b[1;32m     50\u001b[0m     \u001b[0;32mif\u001b[0m \u001b[0;32mnot\u001b[0m \u001b[0mos\u001b[0m\u001b[0;34m.\u001b[0m\u001b[0mpath\u001b[0m\u001b[0;34m.\u001b[0m\u001b[0mexists\u001b[0m\u001b[0;34m(\u001b[0m\u001b[0mdata_path\u001b[0m\u001b[0;34m+\u001b[0m\u001b[0;34m'VOCdevkit/VOC%s/labels/'\u001b[0m\u001b[0;34m%\u001b[0m\u001b[0;34m(\u001b[0m\u001b[0myear\u001b[0m\u001b[0;34m)\u001b[0m\u001b[0;34m)\u001b[0m\u001b[0;34m:\u001b[0m\u001b[0;34m\u001b[0m\u001b[0;34m\u001b[0m\u001b[0m\n\u001b[1;32m     51\u001b[0m         \u001b[0mos\u001b[0m\u001b[0;34m.\u001b[0m\u001b[0mmakedirs\u001b[0m\u001b[0;34m(\u001b[0m\u001b[0mdata_path\u001b[0m\u001b[0;34m+\u001b[0m\u001b[0;34m'VOCdevkit/VOC%s/labels/'\u001b[0m\u001b[0;34m%\u001b[0m\u001b[0;34m(\u001b[0m\u001b[0myear\u001b[0m\u001b[0;34m)\u001b[0m\u001b[0;34m)\u001b[0m\u001b[0;34m\u001b[0m\u001b[0;34m\u001b[0m\u001b[0m\n\u001b[0;32m---> 52\u001b[0;31m     \u001b[0mimage_ids\u001b[0m \u001b[0;34m=\u001b[0m \u001b[0mopen\u001b[0m\u001b[0;34m(\u001b[0m\u001b[0mdata_path\u001b[0m\u001b[0;34m+\u001b[0m\u001b[0;34m'VOCdevkit/VOC%s/ImageSets/Main/%s.txt'\u001b[0m\u001b[0;34m%\u001b[0m\u001b[0;34m(\u001b[0m\u001b[0myear\u001b[0m\u001b[0;34m,\u001b[0m \u001b[0mimage_set\u001b[0m\u001b[0;34m)\u001b[0m\u001b[0;34m)\u001b[0m\u001b[0;34m.\u001b[0m\u001b[0mread\u001b[0m\u001b[0;34m(\u001b[0m\u001b[0;34m)\u001b[0m\u001b[0;34m.\u001b[0m\u001b[0mstrip\u001b[0m\u001b[0;34m(\u001b[0m\u001b[0;34m)\u001b[0m\u001b[0;34m.\u001b[0m\u001b[0msplit\u001b[0m\u001b[0;34m(\u001b[0m\u001b[0;34m)\u001b[0m\u001b[0;34m\u001b[0m\u001b[0;34m\u001b[0m\u001b[0m\n\u001b[0m\u001b[1;32m     53\u001b[0m     \u001b[0mlist_file\u001b[0m \u001b[0;34m=\u001b[0m \u001b[0mopen\u001b[0m\u001b[0;34m(\u001b[0m\u001b[0;34m'%s_%s.txt'\u001b[0m\u001b[0;34m%\u001b[0m\u001b[0;34m(\u001b[0m\u001b[0myear\u001b[0m\u001b[0;34m,\u001b[0m \u001b[0mimage_set\u001b[0m\u001b[0;34m)\u001b[0m\u001b[0;34m,\u001b[0m \u001b[0;34m'w'\u001b[0m\u001b[0;34m)\u001b[0m\u001b[0;34m\u001b[0m\u001b[0;34m\u001b[0m\u001b[0m\n\u001b[1;32m     54\u001b[0m     \u001b[0;32mfor\u001b[0m \u001b[0mimage_id\u001b[0m \u001b[0;32min\u001b[0m \u001b[0mimage_ids\u001b[0m\u001b[0;34m:\u001b[0m\u001b[0;34m\u001b[0m\u001b[0;34m\u001b[0m\u001b[0m\n",
            "\u001b[0;31mFileNotFoundError\u001b[0m: [Errno 2] No such file or directory: '/content/gdrive/MyDrive/Fewshot_Detection_/dataVOCdevkit/VOC2012/ImageSets/Main/train.txt'"
          ]
        }
      ]
    },
    {
      "cell_type": "code",
      "metadata": {
        "id": "aJmLdyQMvPuA"
      },
      "source": [
        ""
      ],
      "execution_count": null,
      "outputs": []
    }
  ]
}